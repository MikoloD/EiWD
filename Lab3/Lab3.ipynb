{
 "cells": [
  {
   "cell_type": "markdown",
   "id": "de1ed3d6-dbad-4706-b14a-bbccb12a8324",
   "metadata": {},
   "source": [
    "Instalacja wymaganych pakietów"
   ]
  },
  {
   "cell_type": "code",
   "execution_count": 1,
   "id": "b8cb362a-e3bc-4e2e-8958-ff73e06ace4c",
   "metadata": {},
   "outputs": [
    {
     "name": "stdout",
     "output_type": "stream",
     "text": [
      "Requirement already satisfied: pyspark==3.0.1 in d:\\programdata\\anaconda3\\lib\\site-packages (3.0.1)\n",
      "Requirement already satisfied: py4j==0.10.9 in d:\\programdata\\anaconda3\\lib\\site-packages (0.10.9)\n"
     ]
    }
   ],
   "source": [
    "! pip install pyspark==3.0.1 py4j==0.10.9"
   ]
  },
  {
   "cell_type": "markdown",
   "id": "97d4fa04-8a59-4471-8c13-10a0bce1c52a",
   "metadata": {},
   "source": [
    "Tworzenie Spark session"
   ]
  },
  {
   "cell_type": "code",
   "execution_count": 2,
   "id": "16441e54-c68d-4be8-98ea-8051d7c35cad",
   "metadata": {},
   "outputs": [],
   "source": [
    "from pyspark.sql import SparkSession\n",
    "spark = SparkSession.builder\\\n",
    "        .master(\"local[*]\")\\\n",
    "        .appName('PySpark_Tutorial')\\\n",
    "        .getOrCreate()\n",
    "# gdzie \"*\" znaczy wszystkie rdzenie procesora."
   ]
  },
  {
   "cell_type": "markdown",
   "id": "201eb486-4b88-45e9-9277-7220609c1d75",
   "metadata": {},
   "source": [
    "Czytanie danych"
   ]
  },
  {
   "cell_type": "code",
   "execution_count": 3,
   "id": "64a66ce1-ffdc-4b6f-a717-8a3a8279b0dc",
   "metadata": {},
   "outputs": [],
   "source": [
    "# Czytanie CSV plika\n",
    "csv_file = 'IHME-GBD_2019_DATA-15798851-2.csv'\n",
    "df = spark.read.csv(csv_file)"
   ]
  },
  {
   "cell_type": "markdown",
   "id": "fb21620d-f55a-4c85-b7d8-66df20251ac9",
   "metadata": {},
   "source": [
    "Strukturyzacja danych za pomocą schematu Spark"
   ]
  },
  {
   "cell_type": "code",
   "execution_count": 4,
   "id": "c36b9a24-222c-4eda-82af-3f9e76ed7395",
   "metadata": {},
   "outputs": [
    {
     "name": "stdout",
     "output_type": "stream",
     "text": [
      "root\n",
      " |-- measure: string (nullable = true)\n",
      " |-- location: string (nullable = true)\n",
      " |-- sex: string (nullable = true)\n",
      " |-- age: string (nullable = true)\n",
      " |-- cause: string (nullable = true)\n",
      " |-- metric: string (nullable = true)\n",
      " |-- year: string (nullable = true)\n",
      " |-- val: string (nullable = true)\n",
      " |-- upper: string (nullable = true)\n",
      " |-- lower: string (nullable = true)\n",
      "\n"
     ]
    }
   ],
   "source": [
    "data = spark.read.csv(\n",
    "      \"IHME-GBD_2019_DATA-15798851-2.csv\",\n",
    "      sep=',',\n",
    "      header=True,\n",
    "      )\n",
    "data.printSchema()"
   ]
  },
  {
   "cell_type": "markdown",
   "id": "d8f81d87-ca77-4e08-a552-9086e33a3dcb",
   "metadata": {},
   "source": [
    "Manualna strukturyzacja danych"
   ]
  },
  {
   "cell_type": "code",
   "execution_count": 5,
   "id": "ae60fd51-43af-45d1-9e0e-dbd1e285af31",
   "metadata": {},
   "outputs": [
    {
     "name": "stdout",
     "output_type": "stream",
     "text": [
      "root\n",
      " |-- measure: string (nullable = true)\n",
      " |-- location: string (nullable = true)\n",
      " |-- year: integer (nullable = true)\n",
      " |-- var: double (nullable = true)\n",
      "\n"
     ]
    }
   ],
   "source": [
    "from pyspark.sql.types import *\n",
    "\n",
    "data_schema = [\n",
    "    StructField('measure', StringType(), True), #czy dopuszczalna jest wartość null\n",
    "    StructField('location', StringType(), True),\n",
    "    StructField('year', IntegerType(), False),\n",
    "    StructField('var', DoubleType(), False),\n",
    "]\n",
    "\n",
    "final_struc = StructType(fields = data_schema)\n",
    "data2 = spark.read.csv(\n",
    "      \"IHME-GBD_2019_DATA-15798851-2.csv\",\n",
    "      sep=',',\n",
    "      header=True,\n",
    "      schema=final_struc\n",
    ")\n",
    "\n",
    "data2.printSchema()"
   ]
  },
  {
   "cell_type": "markdown",
   "id": "733e9d03-b8f5-4c44-8878-934aafb7786c",
   "metadata": {},
   "source": [
    "Kontrola danych"
   ]
  },
  {
   "cell_type": "code",
   "execution_count": 6,
   "id": "c864b372-7122-4d7d-8e94-3c95f3e54d9f",
   "metadata": {},
   "outputs": [
    {
     "data": {
      "text/plain": [
       "StructType(List(StructField(measure,StringType,true),StructField(location,StringType,true),StructField(year,IntegerType,true),StructField(var,DoubleType,true)))"
      ]
     },
     "execution_count": 6,
     "metadata": {},
     "output_type": "execute_result"
    }
   ],
   "source": [
    "data2.schema"
   ]
  },
  {
   "cell_type": "code",
   "execution_count": 7,
   "id": "3d35f983-c300-440c-9583-513d09958330",
   "metadata": {},
   "outputs": [
    {
     "data": {
      "text/plain": [
       "[('measure', 'string'),\n",
       " ('location', 'string'),\n",
       " ('year', 'int'),\n",
       " ('var', 'double')]"
      ]
     },
     "execution_count": 7,
     "metadata": {},
     "output_type": "execute_result"
    }
   ],
   "source": [
    "data2.dtypes"
   ]
  },
  {
   "cell_type": "code",
   "execution_count": 8,
   "id": "c1bf109a-5322-48cf-9f33-a3a4bedc743c",
   "metadata": {},
   "outputs": [
    {
     "data": {
      "text/plain": [
       "<bound method DataFrame.head of DataFrame[measure: string, location: string, year: int, var: double]>"
      ]
     },
     "execution_count": 8,
     "metadata": {},
     "output_type": "execute_result"
    }
   ],
   "source": [
    "data2.head"
   ]
  },
  {
   "cell_type": "markdown",
   "id": "483cf614-333b-4892-9ff7-cafb0cc2ace3",
   "metadata": {},
   "source": [
    "Manipulacja kolumnami"
   ]
  },
  {
   "cell_type": "code",
   "execution_count": 9,
   "id": "f519a89f-28ef-4c8f-a3a9-2b435359cf0c",
   "metadata": {},
   "outputs": [
    {
     "name": "stdout",
     "output_type": "stream",
     "text": [
      "+--------------------+--------+------+--------+--------------------+------+----+------------------+------------------+------------------+-------------+\n",
      "|             measure|location|   sex|     age|               cause|metric|year|               val|             upper|             lower|copy_location|\n",
      "+--------------------+--------+------+--------+--------------------+------+----+------------------+------------------+------------------+-------------+\n",
      "|DALYs (Disability...|  Gambia|Female|All Ages|Maternal and neon...|  Rate|2012| 7475.212699705153| 9104.773540846287| 6157.428602624385|       Gambia|\n",
      "|DALYs (Disability...|  Gambia|  Both|All Ages|Maternal and neon...|  Rate|2012| 7814.344518002015| 9667.960848348446| 6289.146374740097|       Gambia|\n",
      "|DALYs (Disability...|  Gambia|  Male|All Ages|Substance use dis...|Number|2012| 1659.038707247863| 2126.829520886102|1239.1726985245457|       Gambia|\n",
      "|DALYs (Disability...|  Gambia|Female|All Ages|Substance use dis...|Number|2012| 874.4324658085982|1186.5605963880798| 618.2717801609034|       Gambia|\n",
      "|DALYs (Disability...|  Gambia|  Both|All Ages|Substance use dis...|Number|2012|2533.4711730564563| 3231.220866423626|1868.2046086417708|       Gambia|\n",
      "+--------------------+--------+------+--------+--------------------+------+----+------------------+------------------+------------------+-------------+\n",
      "only showing top 5 rows\n",
      "\n"
     ]
    }
   ],
   "source": [
    "data = data.withColumn('copy_location', data.location)\n",
    "data.show(5)"
   ]
  },
  {
   "cell_type": "code",
   "execution_count": 10,
   "id": "a9ccc475-13af-4895-aacb-b73879564142",
   "metadata": {},
   "outputs": [
    {
     "name": "stdout",
     "output_type": "stream",
     "text": [
      "+--------------------+--------+------+--------+--------------------+------+----+------------------+------------------+------------------+--------------+\n",
      "|             measure|location|   sex|     age|               cause|metric|year|               val|             upper|             lower|copy_location2|\n",
      "+--------------------+--------+------+--------+--------------------+------+----+------------------+------------------+------------------+--------------+\n",
      "|DALYs (Disability...|  Gambia|Female|All Ages|Maternal and neon...|  Rate|2012| 7475.212699705153| 9104.773540846287| 6157.428602624385|        Gambia|\n",
      "|DALYs (Disability...|  Gambia|  Both|All Ages|Maternal and neon...|  Rate|2012| 7814.344518002015| 9667.960848348446| 6289.146374740097|        Gambia|\n",
      "|DALYs (Disability...|  Gambia|  Male|All Ages|Substance use dis...|Number|2012| 1659.038707247863| 2126.829520886102|1239.1726985245457|        Gambia|\n",
      "|DALYs (Disability...|  Gambia|Female|All Ages|Substance use dis...|Number|2012| 874.4324658085982|1186.5605963880798| 618.2717801609034|        Gambia|\n",
      "|DALYs (Disability...|  Gambia|  Both|All Ages|Substance use dis...|Number|2012|2533.4711730564563| 3231.220866423626|1868.2046086417708|        Gambia|\n",
      "+--------------------+--------+------+--------+--------------------+------+----+------------------+------------------+------------------+--------------+\n",
      "only showing top 5 rows\n",
      "\n"
     ]
    }
   ],
   "source": [
    "data = data.withColumnRenamed('copy_location', 'copy_location2') #zmiana nazwy\n",
    "data.show(5)"
   ]
  },
  {
   "cell_type": "code",
   "execution_count": 11,
   "id": "5af92329-fae1-4e11-a994-0c01a8edce1d",
   "metadata": {},
   "outputs": [
    {
     "name": "stdout",
     "output_type": "stream",
     "text": [
      "+--------------------+--------+------+--------+--------------------+------+----+------------------+------------------+------------------+\n",
      "|             measure|location|   sex|     age|               cause|metric|year|               val|             upper|             lower|\n",
      "+--------------------+--------+------+--------+--------------------+------+----+------------------+------------------+------------------+\n",
      "|DALYs (Disability...|  Gambia|Female|All Ages|Maternal and neon...|  Rate|2012| 7475.212699705153| 9104.773540846287| 6157.428602624385|\n",
      "|DALYs (Disability...|  Gambia|  Both|All Ages|Maternal and neon...|  Rate|2012| 7814.344518002015| 9667.960848348446| 6289.146374740097|\n",
      "|DALYs (Disability...|  Gambia|  Male|All Ages|Substance use dis...|Number|2012| 1659.038707247863| 2126.829520886102|1239.1726985245457|\n",
      "|DALYs (Disability...|  Gambia|Female|All Ages|Substance use dis...|Number|2012| 874.4324658085982|1186.5605963880798| 618.2717801609034|\n",
      "|DALYs (Disability...|  Gambia|  Both|All Ages|Substance use dis...|Number|2012|2533.4711730564563| 3231.220866423626|1868.2046086417708|\n",
      "+--------------------+--------+------+--------+--------------------+------+----+------------------+------------------+------------------+\n",
      "only showing top 5 rows\n",
      "\n"
     ]
    }
   ],
   "source": [
    "data = data.drop('copy_location2') #kasacja\n",
    "data.show(5)"
   ]
  },
  {
   "cell_type": "markdown",
   "id": "a49e97c1-1c59-4062-8aeb-5a9a9a49d6b0",
   "metadata": {},
   "source": [
    "Radzenie sobie z brakującymi wartościami"
   ]
  },
  {
   "cell_type": "code",
   "execution_count": 12,
   "id": "80a198c1-57c8-4360-a8e6-c2db0d42f0fc",
   "metadata": {},
   "outputs": [
    {
     "data": {
      "text/plain": [
       "<bound method DataFrame.show of DataFrame[measure: string, location: string, sex: string, age: string, cause: string, metric: string, year: string, val: string, upper: string, lower: string]>"
      ]
     },
     "execution_count": 12,
     "metadata": {},
     "output_type": "execute_result"
    }
   ],
   "source": [
    "data.show"
   ]
  },
  {
   "cell_type": "code",
   "execution_count": 13,
   "id": "f81f6ab2-2a66-45c6-91fd-337043ed1e7f",
   "metadata": {},
   "outputs": [
    {
     "data": {
      "text/plain": [
       "DataFrame[measure: string, location: string, sex: string, age: string, cause: string, metric: string, year: string, val: string, upper: string, lower: string]"
      ]
     },
     "execution_count": 13,
     "metadata": {},
     "output_type": "execute_result"
    }
   ],
   "source": [
    "from pyspark.sql import functions as f\n",
    "# Usuń wiersze z brakującymi wartościami w dowolnej z kolumn\n",
    "data.na.drop()\n",
    "# Zastąp brakujące wartości za pomocą średniej\n",
    "data.na.fill(data.select(f.mean(data['val'])).collect()[0][0])\n",
    "# Zastąp brakujące wartości nowymi\n",
    "#data.na.replace(old_value, new_vallue)"
   ]
  },
  {
   "cell_type": "markdown",
   "id": "a7791059-da26-4ecf-b44f-12f48e0e813d",
   "metadata": {},
   "source": [
    "Pobieranie danych"
   ]
  },
  {
   "cell_type": "code",
   "execution_count": 14,
   "id": "c092fc7b-ea52-4df7-ab93-153aad958df5",
   "metadata": {},
   "outputs": [
    {
     "name": "stdout",
     "output_type": "stream",
     "text": [
      "+----+\n",
      "|year|\n",
      "+----+\n",
      "|2012|\n",
      "|2012|\n",
      "|2012|\n",
      "|2012|\n",
      "|2012|\n",
      "+----+\n",
      "only showing top 5 rows\n",
      "\n"
     ]
    }
   ],
   "source": [
    "data.select('year').show(5)"
   ]
  },
  {
   "cell_type": "code",
   "execution_count": 15,
   "id": "024e1f1e-f2cb-4174-9bba-4a72c3e671a1",
   "metadata": {},
   "outputs": [
    {
     "name": "stdout",
     "output_type": "stream",
     "text": [
      "+--------+----+--------------------+\n",
      "|location|year|                 val|\n",
      "+--------+----+--------------------+\n",
      "|  Gambia|2012|   7475.212699705153|\n",
      "|  Gambia|2012|   7814.344518002015|\n",
      "|  Gambia|2012|   1659.038707247863|\n",
      "|  Gambia|2012|   874.4324658085982|\n",
      "|  Gambia|2012|  2533.4711730564563|\n",
      "|  Gambia|2012|0.003798563072089447|\n",
      "|  Gambia|2012|0.002202396944719217|\n",
      "|  Gambia|2012|0.003038293155919...|\n",
      "|  Gambia|2012|  179.49365989601577|\n",
      "|  Gambia|2012|   91.40054305937956|\n",
      "+--------+----+--------------------+\n",
      "only showing top 10 rows\n",
      "\n"
     ]
    }
   ],
   "source": [
    "# wybór kilku kolumn\n",
    "data.select(['location', 'year', 'val']).show(10)"
   ]
  },
  {
   "cell_type": "markdown",
   "id": "b0380d04-cb26-4eea-8fd0-da2b881e83fb",
   "metadata": {},
   "source": [
    "Filter"
   ]
  },
  {
   "cell_type": "code",
   "execution_count": 16,
   "id": "fb21cda8-2141-408a-9401-473ef1df682a",
   "metadata": {},
   "outputs": [
    {
     "name": "stdout",
     "output_type": "stream",
     "text": [
      "+--------------------+--------+------+--------+--------------------+------+----+------------------+------------------+------------------+\n",
      "|             measure|location|   sex|     age|               cause|metric|year|               val|             upper|             lower|\n",
      "+--------------------+--------+------+--------+--------------------+------+----+------------------+------------------+------------------+\n",
      "|DALYs (Disability...|  Gambia|Female|All Ages|Maternal and neon...|  Rate|2012| 7475.212699705153| 9104.773540846287| 6157.428602624385|\n",
      "|DALYs (Disability...|  Gambia|  Both|All Ages|Maternal and neon...|  Rate|2012| 7814.344518002015| 9667.960848348446| 6289.146374740097|\n",
      "|DALYs (Disability...|  Gambia|  Male|All Ages|Substance use dis...|Number|2012| 1659.038707247863| 2126.829520886102|1239.1726985245457|\n",
      "|DALYs (Disability...|  Gambia|Female|All Ages|Substance use dis...|Number|2012| 874.4324658085982|1186.5605963880798| 618.2717801609034|\n",
      "|DALYs (Disability...|  Gambia|  Both|All Ages|Substance use dis...|Number|2012|2533.4711730564563| 3231.220866423626|1868.2046086417708|\n",
      "+--------------------+--------+------+--------+--------------------+------+----+------------------+------------------+------------------+\n",
      "only showing top 5 rows\n",
      "\n"
     ]
    }
   ],
   "source": [
    "from pyspark.sql.functions import col\n",
    "data.filter( (col('val') >= 1000) & (col('upper') <= 10000000) )\n",
    "data.show(5)"
   ]
  },
  {
   "cell_type": "markdown",
   "id": "7966dfb5-c07b-44f0-9569-917e57c4e275",
   "metadata": {},
   "source": [
    "Between"
   ]
  },
  {
   "cell_type": "code",
   "execution_count": 17,
   "id": "eb5a9eb6-892b-41e4-8a5d-170130664acd",
   "metadata": {},
   "outputs": [
    {
     "name": "stdout",
     "output_type": "stream",
     "text": [
      "+--------------------+------------------+------+--------+--------------------+------+----+------------------+------------------+------------------+\n",
      "|             measure|          location|   sex|     age|               cause|metric|year|               val|             upper|             lower|\n",
      "+--------------------+------------------+------+--------+--------------------+------+----+------------------+------------------+------------------+\n",
      "|DALYs (Disability...|Russian Federation|  Male|All Ages|  Transport injuries|Number|2013|1563818.2525840718|1730665.1380830628|1422922.2224031396|\n",
      "|DALYs (Disability...|Russian Federation|  Both|All Ages|  Transport injuries|Number|2013|2348269.3054279066|2665389.1249823105| 2068902.188470523|\n",
      "|DALYs (Disability...|          Thailand|  Both|All Ages|Diabetes and kidn...|Number|2013|1215245.6178658458| 1387336.100516322|1055619.0224713387|\n",
      "|DALYs (Disability...|        Mozambique|  Male|All Ages|HIV/AIDS and sexu...|Number|2011|2174300.0441490347|2741039.0572092957|1763039.0810975558|\n",
      "|DALYs (Disability...|        Mozambique|Female|All Ages|HIV/AIDS and sexu...|Number|2011|   2895587.7646052|3706408.5720942672| 2306640.354706672|\n",
      "|DALYs (Disability...|Russian Federation|  Male|All Ages|           Neoplasms|Number|2013| 4090226.802378882| 4155359.464282655|4005121.2019642727|\n",
      "|DALYs (Disability...|Russian Federation|Female|All Ages|           Neoplasms|Number|2013|3414103.8508302304|3489028.7047208236|3310484.1497073723|\n",
      "|DALYs (Disability...|Russian Federation|  Male|All Ages|  Digestive diseases|Number|2013|2002567.5882994307|2073526.2177201917|1947072.2245896638|\n",
      "|DALYs (Disability...|Russian Federation|Female|All Ages|  Digestive diseases|Number|2013|1345203.4673331394|1444258.8697134608| 1266022.689466917|\n",
      "|DALYs (Disability...|Russian Federation|  Both|All Ages|  Digestive diseases|Number|2013| 3347771.055632565| 3516635.859878875| 3219696.985016068|\n",
      "|DALYs (Disability...|              Iraq|  Both|All Ages|Self-harm and int...|Number|2012| 1256318.149434527|1462101.5208953691|1089259.7260939889|\n",
      "|DALYs (Disability...|            Mexico|  Male|All Ages|Diabetes and kidn...|Number|2012|1858981.4749701458| 2036028.626377141| 1700214.864927907|\n",
      "|DALYs (Disability...|            Mexico|Female|All Ages|Diabetes and kidn...|Number|2012|1861185.8003768912|2054662.3057531568|1681539.0798739342|\n",
      "|DALYs (Disability...|            Mexico|  Both|All Ages|Diabetes and kidn...|Number|2012| 3720167.275347037| 4087246.320550209|3386894.5316912797|\n",
      "|DALYs (Disability...|          Viet Nam|  Both|All Ages|Neurological diso...|Number|2012|1069819.6566094689|1928188.7872334127| 501455.5305686765|\n",
      "|DALYs (Disability...|          Ethiopia|  Both|All Ages|Unintentional inj...|Number|2012|1378821.0629198356|1693361.7187471045|1115172.7929996278|\n",
      "|DALYs (Disability...|          Pakistan|  Male|All Ages|Respiratory infec...|Number|2011| 4863470.709816628|5817474.0356123205| 4014095.045441964|\n",
      "|DALYs (Disability...|          Pakistan|Female|All Ages|Respiratory infec...|Number|2011| 4784176.011975201|  5569335.86283441|4083265.6903291587|\n",
      "|DALYs (Disability...|          Pakistan|  Male|All Ages|  Enteric infections|Number|2011|4099624.9035108723| 5279170.728818483|3021833.1130831456|\n",
      "|DALYs (Disability...|          Pakistan|Female|All Ages|  Enteric infections|Number|2011|3865104.1411546906| 4906030.420062346|3022509.8843845455|\n",
      "+--------------------+------------------+------+--------+--------------------+------+----+------------------+------------------+------------------+\n",
      "only showing top 20 rows\n",
      "\n"
     ]
    }
   ],
   "source": [
    "data.filter(data.val.between(1000000, 5000000)).show()"
   ]
  },
  {
   "cell_type": "markdown",
   "id": "33a2b633-c863-4e1e-96d7-55d9596092b7",
   "metadata": {},
   "source": [
    "When"
   ]
  },
  {
   "cell_type": "code",
   "execution_count": 18,
   "id": "5c129602-012a-4ffc-8a0b-5982884be573",
   "metadata": {},
   "outputs": [
    {
     "name": "stdout",
     "output_type": "stream",
     "text": [
      "+----+--------------------+-----------------------------------------+\n",
      "|year|                 val|CASE WHEN (year = 2012) THEN 1 ELSE 0 END|\n",
      "+----+--------------------+-----------------------------------------+\n",
      "|2012|   7475.212699705153|                                        1|\n",
      "|2012|   7814.344518002015|                                        1|\n",
      "|2012|   1659.038707247863|                                        1|\n",
      "|2012|   874.4324658085982|                                        1|\n",
      "|2012|  2533.4711730564563|                                        1|\n",
      "|2012|0.003798563072089447|                                        1|\n",
      "|2012|0.002202396944719217|                                        1|\n",
      "|2012|0.003038293155919...|                                        1|\n",
      "|2012|  179.49365989601577|                                        1|\n",
      "|2012|   91.40054305937956|                                        1|\n",
      "|2012|   134.6880361780433|                                        1|\n",
      "|2012|   8646.107047081588|                                        1|\n",
      "|2012|   7619.998216253456|                                        1|\n",
      "|2012|   16266.10526333505|                                        1|\n",
      "|2012| 0.01977817597188412|                                        1|\n",
      "|2012| 0.01919796110415631|                                        1|\n",
      "|2012| 0.01950424101322522|                                        1|\n",
      "|2012|    935.434110701281|                                        1|\n",
      "|2012|   796.4845797817376|                                        1|\n",
      "|2012|   864.7620693235743|                                        1|\n",
      "|2011|   22301.33040284042|                                        0|\n",
      "|2011|  17657.116392824933|                                        0|\n",
      "|2011|   39958.44679566539|                                        0|\n",
      "|2011| 0.04799795589878509|                                        0|\n",
      "|2011|0.042699118371464485|                                        0|\n",
      "+----+--------------------+-----------------------------------------+\n",
      "only showing top 25 rows\n",
      "\n"
     ]
    }
   ],
   "source": [
    "data.select('year', 'val',\n",
    "f.when(data.year == '2012', 1).otherwise(0)\n",
    ").show(25)"
   ]
  },
  {
   "cell_type": "markdown",
   "id": "4eaa2eeb-d5dc-4548-9bb6-952b170d31d0",
   "metadata": {},
   "source": [
    "Like"
   ]
  },
  {
   "cell_type": "code",
   "execution_count": 19,
   "id": "4d9ba019-ce20-411e-87d0-18a03982db63",
   "metadata": {},
   "outputs": [
    {
     "name": "stdout",
     "output_type": "stream",
     "text": [
      "+--------------------+----------------------------------+\n",
      "|                 val|iso_urrency zaczyba sie na 9 lub␣7|\n",
      "+--------------------+----------------------------------+\n",
      "|0.007332988142041626|                             false|\n",
      "|  0.2713034153257434|                             false|\n",
      "| 0.06367565466684018|                             false|\n",
      "| 0.19342156900472102|                             false|\n",
      "|0.003835061317120...|                             false|\n",
      "|0.032178074330139694|                             false|\n",
      "|   7093.222503810944|                              true|\n",
      "|   7502.956806363028|                              true|\n",
      "| 0.08536612762995582|                             false|\n",
      "|  260706.33550143513|                             false|\n",
      "|  1024.1460052312696|                             false|\n",
      "|  1336.6902679035634|                             false|\n",
      "|  227114.41419074405|                             false|\n",
      "|  1332.9571704727955|                             false|\n",
      "|  22580246.363224022|                             false|\n",
      "| 0.06428783851451203|                             false|\n",
      "|  7222.4012756562925|                              true|\n",
      "|0.011527400193312977|                             false|\n",
      "|  2120.0737120596864|                             false|\n",
      "|   6715.655340340026|                             false|\n",
      "+--------------------+----------------------------------+\n",
      "only showing top 20 rows\n",
      "\n"
     ]
    }
   ],
   "source": [
    "data.select(\n",
    "'val',\n",
    "data.val.rlike('^[9,7]').alias('iso_urrency zaczyba sie na 9 lub␣7')).distinct().show()"
   ]
  },
  {
   "cell_type": "markdown",
   "id": "98d7685c-7ec4-458d-8b59-4d5dcbc22a66",
   "metadata": {},
   "source": [
    "GroupBy"
   ]
  },
  {
   "cell_type": "code",
   "execution_count": 20,
   "id": "5fac3111-a4de-4912-9665-9d3af33fb137",
   "metadata": {},
   "outputs": [
    {
     "name": "stdout",
     "output_type": "stream",
     "text": [
      "+----+-----+\n",
      "|year|count|\n",
      "+----+-----+\n",
      "|2016|40392|\n",
      "|2012|24781|\n",
      "|2019|40392|\n",
      "|2017|40392|\n",
      "|2014|40392|\n",
      "|2013|39483|\n",
      "|2018|40392|\n",
      "|2011| 1224|\n",
      "|2015|40392|\n",
      "+----+-----+\n",
      "\n"
     ]
    }
   ],
   "source": [
    "data.groupBy('year').count().show()"
   ]
  },
  {
   "cell_type": "markdown",
   "id": "748254bb-9106-48f0-95aa-f54e2330c9d6",
   "metadata": {},
   "source": [
    "Agregacja"
   ]
  },
  {
   "cell_type": "code",
   "execution_count": 21,
   "id": "5b9a09f4-ea5f-41cd-84f1-8b0aad3038cf",
   "metadata": {},
   "outputs": [
    {
     "name": "stdout",
     "output_type": "stream",
     "text": [
      "+----+------------------+\n",
      "|year|          avg(val)|\n",
      "+----+------------------+\n",
      "|2016|125761.03225030862|\n",
      "|2012|121301.00826382442|\n",
      "|2019|126113.55401705152|\n",
      "|2017|125589.93283513733|\n",
      "|2014|125758.36794698932|\n",
      "|2013|127595.00698396392|\n",
      "|2018|125696.43818551343|\n",
      "|2011|128072.01051363212|\n",
      "|2015|125897.23935898131|\n",
      "+----+------------------+\n",
      "\n"
     ]
    }
   ],
   "source": [
    "\n",
    "\n",
    "from pyspark.sql import functions as f\n",
    "\n",
    "data.groupBy(\"year\").agg(f.mean(\"val\")).show()\n",
    "#grupowanie i obliczanie wartości dla grup"
   ]
  },
  {
   "cell_type": "markdown",
   "id": "263fc3c8-591a-41ce-8393-166b45fb689a",
   "metadata": {},
   "source": [
    "Wizualizacja danych"
   ]
  },
  {
   "cell_type": "code",
   "execution_count": 22,
   "id": "c3be6b26-f722-48fe-b4f2-e40d4614c52f",
   "metadata": {},
   "outputs": [
    {
     "data": {
      "text/html": [
       "<div>\n",
       "<style scoped>\n",
       "    .dataframe tbody tr th:only-of-type {\n",
       "        vertical-align: middle;\n",
       "    }\n",
       "\n",
       "    .dataframe tbody tr th {\n",
       "        vertical-align: top;\n",
       "    }\n",
       "\n",
       "    .dataframe thead th {\n",
       "        text-align: right;\n",
       "    }\n",
       "</style>\n",
       "<table border=\"1\" class=\"dataframe\">\n",
       "  <thead>\n",
       "    <tr style=\"text-align: right;\">\n",
       "      <th></th>\n",
       "      <th>year</th>\n",
       "      <th>val_min</th>\n",
       "      <th>val_max</th>\n",
       "    </tr>\n",
       "  </thead>\n",
       "  <tbody>\n",
       "    <tr>\n",
       "      <th>0</th>\n",
       "      <td>2016</td>\n",
       "      <td>0.00010176921862111648</td>\n",
       "      <td>999610.4490388336</td>\n",
       "    </tr>\n",
       "    <tr>\n",
       "      <th>1</th>\n",
       "      <td>2012</td>\n",
       "      <td>0.00011744952252551429</td>\n",
       "      <td>9994.58618079852</td>\n",
       "    </tr>\n",
       "    <tr>\n",
       "      <th>2</th>\n",
       "      <td>2019</td>\n",
       "      <td>0.00010105487549400276</td>\n",
       "      <td>9997.116815557363</td>\n",
       "    </tr>\n",
       "    <tr>\n",
       "      <th>3</th>\n",
       "      <td>2017</td>\n",
       "      <td>0.00010662263746395744</td>\n",
       "      <td>99996.76636858631</td>\n",
       "    </tr>\n",
       "    <tr>\n",
       "      <th>4</th>\n",
       "      <td>2014</td>\n",
       "      <td>0.00010864893662670056</td>\n",
       "      <td>9997.115100476538</td>\n",
       "    </tr>\n",
       "    <tr>\n",
       "      <th>5</th>\n",
       "      <td>2013</td>\n",
       "      <td>0.00010071083440063533</td>\n",
       "      <td>99999.98918410507</td>\n",
       "    </tr>\n",
       "    <tr>\n",
       "      <th>6</th>\n",
       "      <td>2018</td>\n",
       "      <td>0.00010488734069313558</td>\n",
       "      <td>9996.475911845675</td>\n",
       "    </tr>\n",
       "    <tr>\n",
       "      <th>7</th>\n",
       "      <td>2011</td>\n",
       "      <td>0.0008754420500049157</td>\n",
       "      <td>997.923977543644</td>\n",
       "    </tr>\n",
       "    <tr>\n",
       "      <th>8</th>\n",
       "      <td>2015</td>\n",
       "      <td>0.0001029286308104761</td>\n",
       "      <td>99994.52912391476</td>\n",
       "    </tr>\n",
       "  </tbody>\n",
       "</table>\n",
       "</div>"
      ],
      "text/plain": [
       "   year                 val_min            val_max\n",
       "0  2016  0.00010176921862111648  999610.4490388336\n",
       "1  2012  0.00011744952252551429   9994.58618079852\n",
       "2  2019  0.00010105487549400276  9997.116815557363\n",
       "3  2017  0.00010662263746395744  99996.76636858631\n",
       "4  2014  0.00010864893662670056  9997.115100476538\n",
       "5  2013  0.00010071083440063533  99999.98918410507\n",
       "6  2018  0.00010488734069313558  9996.475911845675\n",
       "7  2011   0.0008754420500049157   997.923977543644\n",
       "8  2015   0.0001029286308104761  99994.52912391476"
      ]
     },
     "execution_count": 22,
     "metadata": {},
     "output_type": "execute_result"
    }
   ],
   "source": [
    "from pyspark.sql.functions import col, min, max\n",
    "\n",
    "df = data.select('year', 'val')\\\n",
    "      .groupBy(\"year\")\\\n",
    "      .agg(min(\"val\").alias(\"val_min\"), \n",
    "           max(\"val\").alias(\"val_max\"))\\\n",
    "      .toPandas()\n",
    "df.head(10)"
   ]
  },
  {
   "cell_type": "markdown",
   "id": "f3c5c969-8f20-4c5d-9a94-9eabe99c912b",
   "metadata": {},
   "source": [
    "Zapisywanie danych do pliku"
   ]
  },
  {
   "cell_type": "code",
   "execution_count": 23,
   "id": "db161583-744c-431c-bbd8-376ccab253bb",
   "metadata": {},
   "outputs": [
    {
     "ename": "AnalysisException",
     "evalue": "path file:/C:/Users/Mikołaj/Desktop/Jupiter/dataset.csv already exists.;",
     "output_type": "error",
     "traceback": [
      "\u001b[1;31m---------------------------------------------------------------------------\u001b[0m",
      "\u001b[1;31mAnalysisException\u001b[0m                         Traceback (most recent call last)",
      "Cell \u001b[1;32mIn[23], line 2\u001b[0m\n\u001b[0;32m      1\u001b[0m \u001b[38;5;66;03m# error gdy plik już istnieje\u001b[39;00m\n\u001b[1;32m----> 2\u001b[0m \u001b[43mdata\u001b[49m\u001b[38;5;241;43m.\u001b[39;49m\u001b[43mwrite\u001b[49m\u001b[38;5;241;43m.\u001b[39;49m\u001b[43mcsv\u001b[49m\u001b[43m(\u001b[49m\u001b[38;5;124;43m'\u001b[39;49m\u001b[38;5;124;43mdataset.csv\u001b[39;49m\u001b[38;5;124;43m'\u001b[39;49m\u001b[43m)\u001b[49m\n\u001b[0;32m      3\u001b[0m data\u001b[38;5;241m.\u001b[39mwrite\u001b[38;5;241m.\u001b[39mcsv(\u001b[38;5;124m'\u001b[39m\u001b[38;5;124mdataset.json\u001b[39m\u001b[38;5;124m'\u001b[39m, \u001b[38;5;28mformat\u001b[39m\u001b[38;5;241m=\u001b[39m\u001b[38;5;124m'\u001b[39m\u001b[38;5;124mjson\u001b[39m\u001b[38;5;124m'\u001b[39m)\n\u001b[0;32m      4\u001b[0m data\u001b[38;5;241m.\u001b[39mwrite\u001b[38;5;241m.\u001b[39mcsv(\u001b[38;5;124m'\u001b[39m\u001b[38;5;124mdataset.parquet\u001b[39m\u001b[38;5;124m'\u001b[39m, \u001b[38;5;28mformat\u001b[39m\u001b[38;5;241m=\u001b[39m\u001b[38;5;124m'\u001b[39m\u001b[38;5;124mparquet\u001b[39m\u001b[38;5;124m'\u001b[39m)\n",
      "File \u001b[1;32mD:\\ProgramData\\anaconda3\\lib\\site-packages\\pyspark\\sql\\readwriter.py:1027\u001b[0m, in \u001b[0;36mDataFrameWriter.csv\u001b[1;34m(self, path, mode, compression, sep, quote, escape, header, nullValue, escapeQuotes, quoteAll, dateFormat, timestampFormat, ignoreLeadingWhiteSpace, ignoreTrailingWhiteSpace, charToEscapeQuoteEscaping, encoding, emptyValue, lineSep)\u001b[0m\n\u001b[0;32m   1019\u001b[0m \u001b[38;5;28mself\u001b[39m\u001b[38;5;241m.\u001b[39mmode(mode)\n\u001b[0;32m   1020\u001b[0m \u001b[38;5;28mself\u001b[39m\u001b[38;5;241m.\u001b[39m_set_opts(compression\u001b[38;5;241m=\u001b[39mcompression, sep\u001b[38;5;241m=\u001b[39msep, quote\u001b[38;5;241m=\u001b[39mquote, escape\u001b[38;5;241m=\u001b[39mescape, header\u001b[38;5;241m=\u001b[39mheader,\n\u001b[0;32m   1021\u001b[0m                nullValue\u001b[38;5;241m=\u001b[39mnullValue, escapeQuotes\u001b[38;5;241m=\u001b[39mescapeQuotes, quoteAll\u001b[38;5;241m=\u001b[39mquoteAll,\n\u001b[0;32m   1022\u001b[0m                dateFormat\u001b[38;5;241m=\u001b[39mdateFormat, timestampFormat\u001b[38;5;241m=\u001b[39mtimestampFormat,\n\u001b[1;32m   (...)\u001b[0m\n\u001b[0;32m   1025\u001b[0m                charToEscapeQuoteEscaping\u001b[38;5;241m=\u001b[39mcharToEscapeQuoteEscaping,\n\u001b[0;32m   1026\u001b[0m                encoding\u001b[38;5;241m=\u001b[39mencoding, emptyValue\u001b[38;5;241m=\u001b[39memptyValue, lineSep\u001b[38;5;241m=\u001b[39mlineSep)\n\u001b[1;32m-> 1027\u001b[0m \u001b[38;5;28;43mself\u001b[39;49m\u001b[38;5;241;43m.\u001b[39;49m\u001b[43m_jwrite\u001b[49m\u001b[38;5;241;43m.\u001b[39;49m\u001b[43mcsv\u001b[49m\u001b[43m(\u001b[49m\u001b[43mpath\u001b[49m\u001b[43m)\u001b[49m\n",
      "File \u001b[1;32mD:\\ProgramData\\anaconda3\\lib\\site-packages\\py4j\\java_gateway.py:1304\u001b[0m, in \u001b[0;36mJavaMember.__call__\u001b[1;34m(self, *args)\u001b[0m\n\u001b[0;32m   1298\u001b[0m command \u001b[38;5;241m=\u001b[39m proto\u001b[38;5;241m.\u001b[39mCALL_COMMAND_NAME \u001b[38;5;241m+\u001b[39m\\\n\u001b[0;32m   1299\u001b[0m     \u001b[38;5;28mself\u001b[39m\u001b[38;5;241m.\u001b[39mcommand_header \u001b[38;5;241m+\u001b[39m\\\n\u001b[0;32m   1300\u001b[0m     args_command \u001b[38;5;241m+\u001b[39m\\\n\u001b[0;32m   1301\u001b[0m     proto\u001b[38;5;241m.\u001b[39mEND_COMMAND_PART\n\u001b[0;32m   1303\u001b[0m answer \u001b[38;5;241m=\u001b[39m \u001b[38;5;28mself\u001b[39m\u001b[38;5;241m.\u001b[39mgateway_client\u001b[38;5;241m.\u001b[39msend_command(command)\n\u001b[1;32m-> 1304\u001b[0m return_value \u001b[38;5;241m=\u001b[39m \u001b[43mget_return_value\u001b[49m\u001b[43m(\u001b[49m\n\u001b[0;32m   1305\u001b[0m \u001b[43m    \u001b[49m\u001b[43manswer\u001b[49m\u001b[43m,\u001b[49m\u001b[43m \u001b[49m\u001b[38;5;28;43mself\u001b[39;49m\u001b[38;5;241;43m.\u001b[39;49m\u001b[43mgateway_client\u001b[49m\u001b[43m,\u001b[49m\u001b[43m \u001b[49m\u001b[38;5;28;43mself\u001b[39;49m\u001b[38;5;241;43m.\u001b[39;49m\u001b[43mtarget_id\u001b[49m\u001b[43m,\u001b[49m\u001b[43m \u001b[49m\u001b[38;5;28;43mself\u001b[39;49m\u001b[38;5;241;43m.\u001b[39;49m\u001b[43mname\u001b[49m\u001b[43m)\u001b[49m\n\u001b[0;32m   1307\u001b[0m \u001b[38;5;28;01mfor\u001b[39;00m temp_arg \u001b[38;5;129;01min\u001b[39;00m temp_args:\n\u001b[0;32m   1308\u001b[0m     temp_arg\u001b[38;5;241m.\u001b[39m_detach()\n",
      "File \u001b[1;32mD:\\ProgramData\\anaconda3\\lib\\site-packages\\pyspark\\sql\\utils.py:134\u001b[0m, in \u001b[0;36mcapture_sql_exception.<locals>.deco\u001b[1;34m(*a, **kw)\u001b[0m\n\u001b[0;32m    130\u001b[0m converted \u001b[38;5;241m=\u001b[39m convert_exception(e\u001b[38;5;241m.\u001b[39mjava_exception)\n\u001b[0;32m    131\u001b[0m \u001b[38;5;28;01mif\u001b[39;00m \u001b[38;5;129;01mnot\u001b[39;00m \u001b[38;5;28misinstance\u001b[39m(converted, UnknownException):\n\u001b[0;32m    132\u001b[0m     \u001b[38;5;66;03m# Hide where the exception came from that shows a non-Pythonic\u001b[39;00m\n\u001b[0;32m    133\u001b[0m     \u001b[38;5;66;03m# JVM exception message.\u001b[39;00m\n\u001b[1;32m--> 134\u001b[0m     \u001b[43mraise_from\u001b[49m\u001b[43m(\u001b[49m\u001b[43mconverted\u001b[49m\u001b[43m)\u001b[49m\n\u001b[0;32m    135\u001b[0m \u001b[38;5;28;01melse\u001b[39;00m:\n\u001b[0;32m    136\u001b[0m     \u001b[38;5;28;01mraise\u001b[39;00m\n",
      "File \u001b[1;32m<string>:3\u001b[0m, in \u001b[0;36mraise_from\u001b[1;34m(e)\u001b[0m\n",
      "\u001b[1;31mAnalysisException\u001b[0m: path file:/C:/Users/Mikołaj/Desktop/Jupiter/dataset.csv already exists.;"
     ]
    }
   ],
   "source": [
    "# error gdy plik już istnieje\n",
    "data.write.csv('dataset.csv')\n",
    "data.write.csv('dataset.json', format='json')\n",
    "data.write.csv('dataset.parquet', format='parquet')\n",
    "# wybrane kolumny\n",
    "data.select(['location_name', 'the_total_mean']).write.csv('dataset.csv')"
   ]
  },
  {
   "cell_type": "code",
   "execution_count": null,
   "id": "44e83552-08fb-4f7b-8edb-e5e77053dc45",
   "metadata": {},
   "outputs": [],
   "source": []
  }
 ],
 "metadata": {
  "kernelspec": {
   "display_name": "Python 3 (ipykernel)",
   "language": "python",
   "name": "python3"
  },
  "language_info": {
   "codemirror_mode": {
    "name": "ipython",
    "version": 3
   },
   "file_extension": ".py",
   "mimetype": "text/x-python",
   "name": "python",
   "nbconvert_exporter": "python",
   "pygments_lexer": "ipython3",
   "version": "3.10.9"
  }
 },
 "nbformat": 4,
 "nbformat_minor": 5
}
